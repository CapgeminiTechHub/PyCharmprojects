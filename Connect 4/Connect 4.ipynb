{
 "cells": [
  {
   "cell_type": "code",
   "execution_count": 1,
   "metadata": {
    "collapsed": false
   },
   "outputs": [
    {
     "name": "stdout",
     "output_type": "stream",
     "text": [
      "(4032, 2268, 3)\n27433728\nuint8\n"
     ]
    }
   ],
   "source": [
    "import numpy as np\n",
    "import cv2 as cv\n",
    "\n",
    "# Read in colour image\n",
    "img = cv.imread(\"images/connect4 image 1.jpg\")\n",
    "print(img.shape)\n",
    "print(img.size)\n",
    "print(img.dtype)\n"
   ]
  },
  {
   "cell_type": "code",
   "execution_count": null,
   "metadata": {},
   "outputs": [
    {
     "name": "stdout",
     "output_type": "stream",
     "text": [
      "(640, 360, 3)\n691200\nuint8\n"
     ]
    }
   ],
   "source": [
    "# Change size and resolution of image.\n",
    "img = cv.resize(img, (360, 640))\n",
    "print(img.shape)\n",
    "print(img.size)\n",
    "print(img.dtype)\n"
   ]
  },
  {
   "cell_type": "code",
   "execution_count": null,
   "metadata": {},
   "outputs": [],
   "source": [
    "# Blur the image\n",
    "connect4_blurred = cv.GaussianBlur(img,(5,5),2,2)\n",
    "# Write blurred image\n",
    "cv.imwrite(\"images/Connect4_blurred.jpg\", connect4_blurred)\n",
    "\n",
    "# Convert the image to gray\n",
    "connect4_processed = cv.cvtColor(connect4_blurred, cv.COLOR_BGR2GRAY)\n",
    "\n",
    "# Do edge detection using Canny method\n",
    "connect4_edges = cv.Canny(connect4_processed, threshold1=90, threshold2=180)\n",
    "# Write the image showing edge detection\n",
    "cv.imwrite(\"images/Connect4_edges.jpg\", connect4_edges)\n",
    "\n",
    "# Show edge detection image\n",
    "cv.imshow('detected circles',connect4_edges)"
   ]
  },
  {
   "cell_type": "code",
   "execution_count": null,
   "metadata": {},
   "outputs": [],
   "source": []
  },
  {
   "cell_type": "code",
   "execution_count": null,
   "metadata": {},
   "outputs": [],
   "source": []
  },
  {
   "cell_type": "code",
   "execution_count": null,
   "metadata": {},
   "outputs": [],
   "source": []
  }
 ],
 "metadata": {
  "kernelspec": {
   "display_name": "Python 2",
   "language": "python",
   "name": "python2"
  },
  "language_info": {
   "codemirror_mode": {
    "name": "ipython",
    "version": 2
   },
   "file_extension": ".py",
   "mimetype": "text/x-python",
   "name": "python",
   "nbconvert_exporter": "python",
   "pygments_lexer": "ipython2",
   "version": "2.7.6"
  }
 },
 "nbformat": 4,
 "nbformat_minor": 0
}
